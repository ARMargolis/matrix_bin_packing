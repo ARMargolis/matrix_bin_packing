{
  "nbformat": 4,
  "nbformat_minor": 0,
  "metadata": {
    "colab": {
      "name": "Matrix_Bin_Packing.ipynb",
      "provenance": [],
      "machine_shape": "hm",
      "authorship_tag": "ABX9TyOjdnRC4XzVBefybZhs18fK",
      "include_colab_link": true
    },
    "kernelspec": {
      "name": "python3",
      "display_name": "Python 3"
    },
    "language_info": {
      "name": "python"
    }
  },
  "cells": [
    {
      "cell_type": "markdown",
      "metadata": {
        "id": "view-in-github",
        "colab_type": "text"
      },
      "source": [
        "<a href=\"https://colab.research.google.com/github/ARMargolis/matrix_bin_packing/blob/main/Matrix_Bin_Packing_v2.ipynb\" target=\"_parent\"><img src=\"https://colab.research.google.com/assets/colab-badge.svg\" alt=\"Open In Colab\"/></a>"
      ]
    },
    {
      "cell_type": "markdown",
      "metadata": {
        "id": "2XYKZO1eaMBo"
      },
      "source": [
        "###Matrix Multiplication for Efficient Bin Packing\n",
        "In this workbook, I develop a new method for efficient bin packing using matrix multiplication. Bin packing is one of many optimization problems with real world applications. There are heuristic algorithms that come within a few percentage points of the optimal answer, but for many business use cases at scale, that small percentage can mean a large loss of value.\n",
        "I take an approach of using high-memory to efficiently test a large number of combinations to find a better solution than standard heuristic approaches. The first version uses numpy, but future versions will use GPUs and TPUs.\n"
      ]
    },
    {
      "cell_type": "markdown",
      "metadata": {
        "id": "vPZ7JmWbdb9i"
      },
      "source": [
        "Example problems from\n",
        "\n",
        " https://people.sc.fsu.edu/~jburkardt/datasets/bin_packing/bin_packing.html (0 to 3)\n",
        "https://scipbook.readthedocs.io/en/latest/bpp.html (4)\n",
        "http://www.or.deis.unibo.it/staff_pages/martello/Slides_Estoril_Martello.pdf (5 and 6)"
      ]
    },
    {
      "cell_type": "code",
      "metadata": {
        "id": "bZQPe3VXda_x"
      },
      "source": [
        "bin_problems=[(100, [70, 60, 50, 33, 33, 33, 11, 7, 3]),\n",
        "              (100, [99, 94, 79, 64, 50, 46, 43, 37, 32, 19, 18, 7, 6, 3]),\n",
        "              (100, [49, 41, 34, 33, 29, 26, 26, 22, 20, 19]),\n",
        "              (524, [442, 252, 252, 252, 252, 252, 252, 252, 127, 127, 127, 127, 127, 106,\n",
        "                   106, 106, 106, 85, 84, 46, 37, 37, 12, 12, 12, 10, 10, 10, 10, 10, 10, 9]),\n",
        "              (9, [6, 6, 5, 5, 5, 4, 4, 4, 4, 2, 2, 2, 2, 3, 3, 7, 7, 5, 5, 8, 8, 4, 4, 5]),\n",
        "              (100, [99, 94, 90, 88, 80, 10, 10, 6, 5, 5, 4, 4]),\n",
        "              (100, [49, 41, 34, 33, 29, 26, 26, 22, 20, 19])]"
      ],
      "execution_count": 1,
      "outputs": []
    },
    {
      "cell_type": "code",
      "metadata": {
        "id": "U_NtoZUblHp8"
      },
      "source": [
        "import time, numpy as np\n",
        "import itertools\n",
        "from math import factorial\n",
        "\n",
        "def binpack(bin_cap, articles, noisy=False, limit=0, threshold=.995, max_rows=1e6):\n",
        "  arts2sort=np.sort(np.array(articles),kind='mergesort')\n",
        "  bin_list=[]\n",
        "  cycles=0\n",
        "  while arts2sort.sum()>bin_cap and (limit>cycles or limit==0):\n",
        "    cycles+=1\n",
        "    #Max_items: What is the most items you can fit (by starting with the smallest and counting up)\n",
        "    #Min_items: Start with the top and count down\n",
        "    max_items=np.where(np.cumsum(arts2sort)>bin_cap)[-1][0]\n",
        "    min_items=np.where(np.cumsum(np.flip(arts2sort))>bin_cap)[-1][0]\n",
        "    if noisy:\n",
        "      print(arts2sort, '\\nMin:', min_items, 'Max:', max_items)\n",
        "    \n",
        "    #If you can fit more of some items than others, try different amounts until\n",
        "    if max_items>min_items:\n",
        "      max_pack=[np.concatenate([np.zeros(arts2sort.shape[0]-min_items, dtype=bool), np.ones(min_items, dtype=bool)])]\n",
        "      max_load=[arts2sort[-min_items:].sum()]\n",
        "      m=min_items+1\n",
        "      #Starting with min_items, try every amount until you get a size that fits within threshold\n",
        "      while m<=max_items and max_load[-1]<bin_cap*threshold:\n",
        "        #Make every combination of m items from arts2sort\n",
        "        num_combos=int(factorial(arts2sort.shape[0])/(factorial(arts2sort.shape[0]-m)*factorial(m)))\n",
        "        if num_combos<=max_rows:\n",
        "          combos=list(itertools.combinations(range(arts2sort.shape[0]), m))\n",
        "          combos_tup=[tuple(itertools.chain.from_iterable([n]*m for n in range(num_combos))),\n",
        "                  tuple(itertools.chain.from_iterable(combos))]\n",
        "\n",
        "          #Make a matrix of m ones and the rest zeros, with the ones being every combo\n",
        "          bin_matrix=np.zeros((num_combos, arts2sort.shape[0]), dtype=bool)\n",
        "          bin_matrix[combos_tup]=1\n",
        "\n",
        "        else:\n",
        "          avoid=0\n",
        "          #If the number of combinations would use too much memory, include all of the \n",
        "          #largest items that fit in a bin (min_items), ignore the next largest item,\n",
        "          #And ignore the first few items (avoid) until the number of combinations is\n",
        "          #less thanbmax_rows.\n",
        "          while num_combos>max_rows:\n",
        "            avoid+=1\n",
        "            num_combos=int(factorial(arts2sort.shape[0]-avoid-min_items)/(factorial(arts2sort.shape[0]-avoid-m)*factorial(m-min_items)))\n",
        "          if noisy:\n",
        "            print('avoid:', avoid, 'try:', arts2sort.shape[0]-avoid-min_items, 'num_combos:', num_combos)\n",
        "          combos=list(itertools.combinations(range(arts2sort.shape[0]-avoid-min_items), m-min_items))\n",
        "          combos_tup=[tuple(itertools.chain.from_iterable([n]*(m-min_items) for n in range(num_combos))),\n",
        "                  tuple(itertools.chain.from_iterable(combos))]\n",
        "\n",
        "          #Make a matrix of m-min_items-avoid ones and the rest zeros, with the ones being\n",
        "          # every combo that we are going to test, then put a matrix of zeroes in front\n",
        "          #(those are the first items we're going to ignore) and a matrix of ones in the\n",
        "          #back, because we're including the min_items largest items\n",
        "          bin_matrix=np.zeros((num_combos, arts2sort.shape[0]-min_items-avoid+1), dtype=bool)\n",
        "          if noisy:\n",
        "            print(bin_matrix.shape, len(combos_tup[0]), len(combos_tup[1]))\n",
        "          bin_matrix[combos_tup]=1\n",
        "          bin_matrix=np.concatenate([np.zeros((num_combos, avoid-1), dtype=bool),\n",
        "                          bin_matrix, np.ones((num_combos,min_items), dtype=bool)], axis=1)\n",
        "          if noisy:\n",
        "            print('bin_matrix.shape:', bin_matrix.shape)\n",
        "\n",
        "        #Find out how much load they carry, then sort them and choose the highest load that fits in a bin\n",
        "        pack_opts=np.matmul(bin_matrix, arts2sort)\n",
        "        pack_order=pack_opts.argsort(kind='mergesort')\n",
        "        best_opt=np.where(pack_opts[pack_order]<=bin_cap)[-1][-1]\n",
        "        max_pack.append(bin_matrix[pack_order[best_opt]])\n",
        "        max_load.append(pack_opts[pack_order[best_opt]])\n",
        "        m+=1\n",
        "        min_items=np.where(np.cumsum(np.flip(arts2sort))>bin_cap)[-1][0]\n",
        "        if noisy:\n",
        "          print(\"best_opt:\",best_opt,\"load:\",pack_opts[pack_order[best_opt]],\n",
        "                \"used:\", arts2sort[bin_matrix[pack_order[best_opt]]])         \n",
        "      if noisy:\n",
        "        print('max_load:', max_load, max(max_load))\n",
        "      #After trying different numbers of items, choose the best one and the best combination with that many items\n",
        "      best_m=max_load.index(max(max_load))\n",
        "      arts2add=np.arange(arts2sort.shape[0])[max_pack[best_m]]\n",
        "      if noisy:\n",
        "        print('best_m:', best_m, 'best_load:', max_load[best_m], max_pack[best_m], '\\narts2add:', arts2add)\n",
        "\n",
        "      #Add those items to the bin_list and remove from arts2sort\n",
        "      bin_list.append(arts2sort[arts2add])\n",
        "      arts2sort=np.delete(arts2sort,arts2add)\n",
        "\n",
        "    #If you can only fit one amount of items, just choose the largest items\n",
        "    else:\n",
        "      bin_list.append(arts2sort[-max_items:])\n",
        "      arts2sort=np.delete(arts2sort,np.arange(arts2sort.shape[0]-max_items,arts2sort.shape[0]))\n",
        "\n",
        "  return bin_list+[arts2sort]"
      ],
      "execution_count": 2,
      "outputs": []
    },
    {
      "cell_type": "markdown",
      "metadata": {
        "id": "tOHX7_0KQaAg"
      },
      "source": [
        "Now let's test it for performance!"
      ]
    },
    {
      "cell_type": "code",
      "metadata": {
        "colab": {
          "base_uri": "https://localhost:8080/"
        },
        "id": "qZHAEwHI73rC",
        "outputId": "4d4572ee-bbb6-4d54-f7a6-315198a4f6f4"
      },
      "source": [
        "for (cap, articles) in bin_problems:\n",
        "  print(time.ctime(), '\\nCap:', cap, 'Number of articles:', len(articles),\n",
        "        'Total load:', sum(articles))\n",
        "  result=binpack(cap, articles, noisy=False)\n",
        "  print('Resulting length:', len(result),'\\n', [list(res) for res in result], '\\n')\n",
        "print('Done:', time.ctime())"
      ],
      "execution_count": 3,
      "outputs": [
        {
          "output_type": "stream",
          "text": [
            "Tue Mar 30 13:47:38 2021 \n",
            "Cap: 100 Number of articles: 9 Total load: 300\n",
            "Resulting length: 4 \n",
            " [[7, 33, 60], [3, 11, 33, 50], [70], [33]] \n",
            "\n",
            "Tue Mar 30 13:47:38 2021 \n",
            "Cap: 100 Number of articles: 14 Total load: 597\n",
            "Resulting length: 7 \n",
            " [[6, 94], [18, 32, 50], [99], [19, 37, 43], [3, 7, 79], [64], [46]] \n",
            "\n",
            "Tue Mar 30 13:47:38 2021 \n",
            "Cap: 100 Number of articles: 10 Total load: 299\n",
            "Resulting length: 3 \n",
            " [[26, 33, 41], [22, 29, 49], [19, 20, 26, 34]] \n",
            "\n",
            "Tue Mar 30 13:47:38 2021 \n",
            "Cap: 524 Number of articles: 32 Total load: 3659\n"
          ],
          "name": "stdout"
        },
        {
          "output_type": "stream",
          "text": [
            "/usr/local/lib/python3.7/dist-packages/ipykernel_launcher.py:34: FutureWarning: Using a non-tuple sequence for multidimensional indexing is deprecated; use `arr[tuple(seq)]` instead of `arr[seq]`. In the future this will be interpreted as an array index, `arr[np.array(seq)]`, which will result either in an error or a different result.\n"
          ],
          "name": "stderr"
        },
        {
          "output_type": "stream",
          "text": [
            "Resulting length: 7 \n",
            " [[10, 10, 252, 252], [10, 10, 252, 252], [10, 10, 252, 252], [37, 106, 127, 252], [37, 106, 127, 127, 127], [12, 12, 12, 46, 442], [9, 84, 85, 106, 106, 127]] \n",
            "\n",
            "Tue Mar 30 13:47:38 2021 \n",
            "Cap: 9 Number of articles: 24 Total load: 110\n",
            "Resulting length: 13 \n",
            " [[4, 5], [4, 5], [4, 5], [4, 5], [4, 5], [4, 5], [3, 6], [3, 6], [2, 7], [2, 7], [8], [8], [2, 2]] \n",
            "\n",
            "Tue Mar 30 13:47:38 2021 \n",
            "Cap: 100 Number of articles: 12 Total load: 495\n",
            "Resulting length: 5 \n",
            " [[10, 90], [6, 94], [5, 5, 10, 80], [99], [4, 4, 88]] \n",
            "\n",
            "Tue Mar 30 13:47:38 2021 \n",
            "Cap: 100 Number of articles: 10 Total load: 299\n",
            "Resulting length: 3 \n",
            " [[26, 33, 41], [22, 29, 49], [19, 20, 26, 34]] \n",
            "\n",
            "Done: Tue Mar 30 13:47:38 2021\n"
          ],
          "name": "stdout"
        }
      ]
    }
  ]
}